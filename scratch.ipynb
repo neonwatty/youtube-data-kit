{
 "cells": [
  {
   "cell_type": "code",
   "execution_count": 43,
   "metadata": {},
   "outputs": [],
   "source": [
    "import yt_dlp\n",
    "import scrapetube\n",
    "\n",
    "\n",
    "def get_channel_id_from_name(channel_name):\n",
    "    ydl_opts = {\n",
    "        'quiet': True,\n",
    "        'skip_download': True,\n",
    "        'extract_flat': True,\n",
    "        'force_generic_extractor': True,\n",
    "    }\n",
    "    \n",
    "    with yt_dlp.YoutubeDL(ydl_opts) as ydl:\n",
    "        try:\n",
    "            info = ydl.extract_info(f'ytsearch1:{channel_name}', download=False)\n",
    "            return info[\"entries\"][0][\"channel_id\"]\n",
    "        except Exception as e:\n",
    "            print(f\"FAILURE: get_channel_id_from_name failed with exception {e}\")\n",
    "            return None\n",
    "        \n",
    "def get_videourl_from_channel_id(channel_id: str) -> list:\n",
    "    try:\n",
    "        videos = scrapetube.get_channel(channel_id)\n",
    "        video_urls = []\n",
    "        video_ids = []\n",
    "        for video in videos:\n",
    "            vid = video['videoId']\n",
    "            vurl = \"https://www.youtube.com/watch?v=\" + vid\n",
    "            video_urls.append(vurl)\n",
    "            video_ids.append(vid)\n",
    "        return video_ids, video_urls\n",
    "    except Exception as e:\n",
    "        print(f\"FAILURE: get_videourls_from_channel_id failed with exception {e}\")\n",
    "\n",
    "# Example usage\n",
    "channel_name = 'Monkhaus'\n",
    "channel_id = get_channel_id_from_name(channel_name)\n",
    "video_ids, video_urls = get_videourl_from_channel_id(channel_id)\n"
   ]
  },
  {
   "cell_type": "code",
   "execution_count": 45,
   "metadata": {},
   "outputs": [],
   "source": [
    "import pandas as pd\n",
    "\n",
    "df_table = pd.DataFrame(columns=[\"youtube_url\", \"video_id\"])\n",
    "df_table[\"youtube_url\"] = video_urls\n",
    "df_table[\"video_id\"] = video_ids"
   ]
  },
  {
   "cell_type": "code",
   "execution_count": 46,
   "metadata": {},
   "outputs": [
    {
     "data": {
      "text/html": [
       "<div>\n",
       "<style scoped>\n",
       "    .dataframe tbody tr th:only-of-type {\n",
       "        vertical-align: middle;\n",
       "    }\n",
       "\n",
       "    .dataframe tbody tr th {\n",
       "        vertical-align: top;\n",
       "    }\n",
       "\n",
       "    .dataframe thead th {\n",
       "        text-align: right;\n",
       "    }\n",
       "</style>\n",
       "<table border=\"1\" class=\"dataframe\">\n",
       "  <thead>\n",
       "    <tr style=\"text-align: right;\">\n",
       "      <th></th>\n",
       "      <th>youtube_url</th>\n",
       "      <th>video_id</th>\n",
       "    </tr>\n",
       "  </thead>\n",
       "  <tbody>\n",
       "    <tr>\n",
       "      <th>0</th>\n",
       "      <td>https://www.youtube.com/watch?v=HBO81VUu-v8</td>\n",
       "      <td>HBO81VUu-v8</td>\n",
       "    </tr>\n",
       "    <tr>\n",
       "      <th>1</th>\n",
       "      <td>https://www.youtube.com/watch?v=Z-fDh2gPT0I</td>\n",
       "      <td>Z-fDh2gPT0I</td>\n",
       "    </tr>\n",
       "    <tr>\n",
       "      <th>2</th>\n",
       "      <td>https://www.youtube.com/watch?v=EhcBoefiO4Y</td>\n",
       "      <td>EhcBoefiO4Y</td>\n",
       "    </tr>\n",
       "    <tr>\n",
       "      <th>3</th>\n",
       "      <td>https://www.youtube.com/watch?v=jsF3ZG8r7H4</td>\n",
       "      <td>jsF3ZG8r7H4</td>\n",
       "    </tr>\n",
       "    <tr>\n",
       "      <th>4</th>\n",
       "      <td>https://www.youtube.com/watch?v=YQBlqPHg6oA</td>\n",
       "      <td>YQBlqPHg6oA</td>\n",
       "    </tr>\n",
       "  </tbody>\n",
       "</table>\n",
       "</div>"
      ],
      "text/plain": [
       "                                   youtube_url     video_id\n",
       "0  https://www.youtube.com/watch?v=HBO81VUu-v8  HBO81VUu-v8\n",
       "1  https://www.youtube.com/watch?v=Z-fDh2gPT0I  Z-fDh2gPT0I\n",
       "2  https://www.youtube.com/watch?v=EhcBoefiO4Y  EhcBoefiO4Y\n",
       "3  https://www.youtube.com/watch?v=jsF3ZG8r7H4  jsF3ZG8r7H4\n",
       "4  https://www.youtube.com/watch?v=YQBlqPHg6oA  YQBlqPHg6oA"
      ]
     },
     "execution_count": 46,
     "metadata": {},
     "output_type": "execute_result"
    }
   ],
   "source": [
    "df_table.head()"
   ]
  }
 ],
 "metadata": {
  "kernelspec": {
   "display_name": "venv",
   "language": "python",
   "name": "python3"
  },
  "language_info": {
   "codemirror_mode": {
    "name": "ipython",
    "version": 3
   },
   "file_extension": ".py",
   "mimetype": "text/x-python",
   "name": "python",
   "nbconvert_exporter": "python",
   "pygments_lexer": "ipython3",
   "version": "3.10.13"
  }
 },
 "nbformat": 4,
 "nbformat_minor": 2
}
