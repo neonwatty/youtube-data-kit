{
 "cells": [
  {
   "cell_type": "code",
   "execution_count": 2,
   "metadata": {},
   "outputs": [
    {
     "name": "stdout",
     "output_type": "stream",
     "text": [
      "default: https://img.youtube.com/vi/2Nl7Ez8rQZE/default.jpg\n",
      "mqdefault: https://img.youtube.com/vi/2Nl7Ez8rQZE/mqdefault.jpg\n",
      "hqdefault: https://img.youtube.com/vi/2Nl7Ez8rQZE/hqdefault.jpg\n",
      "sddefault: https://img.youtube.com/vi/2Nl7Ez8rQZE/sddefault.jpg\n",
      "maxresdefault: https://img.youtube.com/vi/2Nl7Ez8rQZE/maxresdefault.jpg\n"
     ]
    }
   ],
   "source": [
    "import re\n",
    "from urllib.parse import urlparse, parse_qs\n",
    "\n",
    "def get_youtube_video_id(url):\n",
    "    # Extract video ID from YouTube URL\n",
    "    parsed_url = urlparse(url)\n",
    "    \n",
    "    if 'youtube.com' in parsed_url.netloc:\n",
    "        query_params = parse_qs(parsed_url.query)\n",
    "        if 'v' in query_params:\n",
    "            return query_params['v'][0]\n",
    "    elif 'youtu.be' in parsed_url.netloc:\n",
    "        path_segments = parsed_url.path.split('/')\n",
    "        if len(path_segments) > 1:\n",
    "            return path_segments[1]\n",
    "    return None\n",
    "\n",
    "def get_youtube_thumbnail_urls(video_url):\n",
    "    video_id = get_youtube_video_id(video_url)\n",
    "    if video_id:\n",
    "        return {\n",
    "            'default': f'https://img.youtube.com/vi/{video_id}/default.jpg',\n",
    "            'mqdefault': f'https://img.youtube.com/vi/{video_id}/mqdefault.jpg',\n",
    "            'hqdefault': f'https://img.youtube.com/vi/{video_id}/hqdefault.jpg',\n",
    "            'sddefault': f'https://img.youtube.com/vi/{video_id}/sddefault.jpg',\n",
    "            'maxresdefault': f'https://img.youtube.com/vi/{video_id}/maxresdefault.jpg'\n",
    "        }\n",
    "    return None\n",
    "\n",
    "# Example usage\n",
    "video_url = 'https://www.youtube.com/watch?v=2Nl7Ez8rQZE&t=4505s'\n",
    "thumbnail_urls = get_youtube_thumbnail_urls(video_url)\n",
    "\n",
    "if thumbnail_urls:\n",
    "    for quality, url in thumbnail_urls.items():\n",
    "        print(f\"{quality}: {url}\")\n",
    "else:\n",
    "    print(\"Invalid YouTube URL\")\n"
   ]
  },
  {
   "cell_type": "code",
   "execution_count": null,
   "metadata": {},
   "outputs": [],
   "source": []
  }
 ],
 "metadata": {
  "kernelspec": {
   "display_name": "venv",
   "language": "python",
   "name": "python3"
  },
  "language_info": {
   "codemirror_mode": {
    "name": "ipython",
    "version": 3
   },
   "file_extension": ".py",
   "mimetype": "text/x-python",
   "name": "python",
   "nbconvert_exporter": "python",
   "pygments_lexer": "ipython3",
   "version": "3.10.13"
  }
 },
 "nbformat": 4,
 "nbformat_minor": 2
}
