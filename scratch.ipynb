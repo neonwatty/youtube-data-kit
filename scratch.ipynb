{
 "cells": [
  {
   "cell_type": "code",
   "execution_count": 40,
   "metadata": {},
   "outputs": [],
   "source": [
    "import yt_dlp\n",
    "import scrapetube\n",
    "\n",
    "\n",
    "def get_channel_id_from_name(channel_name):\n",
    "    ydl_opts = {\n",
    "        'quiet': True,\n",
    "        'skip_download': True,\n",
    "        'extract_flat': True,\n",
    "        'force_generic_extractor': True,\n",
    "    }\n",
    "    \n",
    "    with yt_dlp.YoutubeDL(ydl_opts) as ydl:\n",
    "        try:\n",
    "            info = ydl.extract_info(f'ytsearch1:{channel_name}', download=False)\n",
    "            return info[\"entries\"][0][\"channel_id\"]\n",
    "        except Exception as e:\n",
    "            print(f\"FAILURE: get_channel_id_from_name failed with exception {e}\")\n",
    "            return None\n",
    "        \n",
    "def get_videourl_from_channel_id(channel_id: str) -> list:\n",
    "    try:\n",
    "        videos = scrapetube.get_channel(channel_id)\n",
    "        video_urls = []\n",
    "        for video in videos:\n",
    "            vid = video['videoId']\n",
    "            vurl = \"https://www.youtube.com/watch?v=\" + vid\n",
    "            video_urls.append(vurl)\n",
    "        return video_urls\n",
    "    except Exception as e:\n",
    "        print(f\"FAILURE: get_videourls_from_channel_id failed with exception {e}\")\n",
    "\n",
    "# Example usage\n",
    "channel_name = 'Monkhaus'\n",
    "channel_id = get_channel_id_from_name(channel_name)\n",
    "video_urls = get_videourl_from_channel_id(channel_id)\n"
   ]
  },
  {
   "cell_type": "code",
   "execution_count": 41,
   "metadata": {},
   "outputs": [
    {
     "data": {
      "text/plain": [
       "55"
      ]
     },
     "execution_count": 41,
     "metadata": {},
     "output_type": "execute_result"
    }
   ],
   "source": [
    "len(video_urls)"
   ]
  },
  {
   "cell_type": "code",
   "execution_count": 42,
   "metadata": {},
   "outputs": [
    {
     "data": {
      "text/plain": [
       "'https://www.youtube.com/watch?v=HBO81VUu-v8'"
      ]
     },
     "execution_count": 42,
     "metadata": {},
     "output_type": "execute_result"
    }
   ],
   "source": [
    "video_urls[0]"
   ]
  }
 ],
 "metadata": {
  "kernelspec": {
   "display_name": "venv",
   "language": "python",
   "name": "python3"
  },
  "language_info": {
   "codemirror_mode": {
    "name": "ipython",
    "version": 3
   },
   "file_extension": ".py",
   "mimetype": "text/x-python",
   "name": "python",
   "nbconvert_exporter": "python",
   "pygments_lexer": "ipython3",
   "version": "3.10.13"
  }
 },
 "nbformat": 4,
 "nbformat_minor": 2
}
